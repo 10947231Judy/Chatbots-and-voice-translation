{
 "cells": [
  {
   "cell_type": "code",
   "execution_count": null,
   "id": "b4a5447e-ecaf-41dc-8082-db9400eba990",
   "metadata": {},
   "outputs": [],
   "source": [
    "#聊天機器人"
   ]
  },
  {
   "cell_type": "code",
   "execution_count": 1,
   "id": "84c0ff4f-4b4c-4a99-bda3-77bf73739cda",
   "metadata": {},
   "outputs": [
    {
     "name": "stdout",
     "output_type": "stream",
     "text": [
      "Collecting winspeech\n",
      "  Downloading winspeech-1.0.1-py2.py3-none-any.whl.metadata (2.2 kB)\n",
      "Requirement already satisfied: pywin32 in c:\\users\\user\\anaconda3\\lib\\site-packages (from winspeech) (305.1)\n",
      "Downloading winspeech-1.0.1-py2.py3-none-any.whl (6.9 kB)\n",
      "Installing collected packages: winspeech\n",
      "Successfully installed winspeech-1.0.1\n"
     ]
    }
   ],
   "source": [
    "! pip install winspeech"
   ]
  },
  {
   "cell_type": "code",
   "execution_count": 2,
   "id": "e3c3a0e5-e500-49e6-aff5-48d9a97c3f81",
   "metadata": {
    "scrolled": true
   },
   "outputs": [
    {
     "name": "stdout",
     "output_type": "stream",
     "text": [
      "Collecting pipwin\n",
      "  Downloading pipwin-0.5.2.tar.gz (7.9 kB)\n",
      "  Preparing metadata (setup.py): started\n",
      "  Preparing metadata (setup.py): finished with status 'done'\n",
      "Collecting docopt (from pipwin)\n",
      "  Downloading docopt-0.6.2.tar.gz (25 kB)\n",
      "  Preparing metadata (setup.py): started\n",
      "  Preparing metadata (setup.py): finished with status 'done'\n",
      "Requirement already satisfied: requests in c:\\users\\user\\anaconda3\\lib\\site-packages (from pipwin) (2.31.0)\n",
      "Collecting pyprind (from pipwin)\n",
      "  Downloading PyPrind-2.11.3-py2.py3-none-any.whl.metadata (1.1 kB)\n",
      "Requirement already satisfied: six in c:\\users\\user\\anaconda3\\lib\\site-packages (from pipwin) (1.16.0)\n",
      "Requirement already satisfied: beautifulsoup4>=4.9.0 in c:\\users\\user\\anaconda3\\lib\\site-packages (from pipwin) (4.12.2)\n",
      "Collecting js2py (from pipwin)\n",
      "  Downloading Js2Py-0.74-py3-none-any.whl.metadata (868 bytes)\n",
      "Requirement already satisfied: packaging in c:\\users\\user\\anaconda3\\lib\\site-packages (from pipwin) (23.1)\n",
      "Collecting pySmartDL>=1.3.1 (from pipwin)\n",
      "  Downloading pySmartDL-1.3.4-py3-none-any.whl.metadata (2.8 kB)\n",
      "Requirement already satisfied: soupsieve>1.2 in c:\\users\\user\\anaconda3\\lib\\site-packages (from beautifulsoup4>=4.9.0->pipwin) (2.5)\n",
      "Requirement already satisfied: tzlocal>=1.2 in c:\\users\\user\\anaconda3\\lib\\site-packages (from js2py->pipwin) (2.1)\n",
      "Collecting pyjsparser>=2.5.1 (from js2py->pipwin)\n",
      "  Downloading pyjsparser-2.7.1.tar.gz (24 kB)\n",
      "  Preparing metadata (setup.py): started\n",
      "  Preparing metadata (setup.py): finished with status 'done'\n",
      "Requirement already satisfied: charset-normalizer<4,>=2 in c:\\users\\user\\anaconda3\\lib\\site-packages (from requests->pipwin) (2.0.4)\n",
      "Requirement already satisfied: idna<4,>=2.5 in c:\\users\\user\\anaconda3\\lib\\site-packages (from requests->pipwin) (3.4)\n",
      "Requirement already satisfied: urllib3<3,>=1.21.1 in c:\\users\\user\\anaconda3\\lib\\site-packages (from requests->pipwin) (2.0.7)\n",
      "Requirement already satisfied: certifi>=2017.4.17 in c:\\users\\user\\anaconda3\\lib\\site-packages (from requests->pipwin) (2024.2.2)\n",
      "Requirement already satisfied: pytz in c:\\users\\user\\anaconda3\\lib\\site-packages (from tzlocal>=1.2->js2py->pipwin) (2023.3.post1)\n",
      "Downloading pySmartDL-1.3.4-py3-none-any.whl (20 kB)\n",
      "Downloading Js2Py-0.74-py3-none-any.whl (1.0 MB)\n",
      "   ---------------------------------------- 0.0/1.0 MB ? eta -:--:--\n",
      "   - -------------------------------------- 0.0/1.0 MB 2.0 MB/s eta 0:00:01\n",
      "   ---- ----------------------------------- 0.1/1.0 MB 1.3 MB/s eta 0:00:01\n",
      "   ----- ---------------------------------- 0.2/1.0 MB 1.1 MB/s eta 0:00:01\n",
      "   ------- -------------------------------- 0.2/1.0 MB 1.2 MB/s eta 0:00:01\n",
      "   ---------- ----------------------------- 0.3/1.0 MB 1.3 MB/s eta 0:00:01\n",
      "   ----------- ---------------------------- 0.3/1.0 MB 1.3 MB/s eta 0:00:01\n",
      "   -------------- ------------------------- 0.4/1.0 MB 1.2 MB/s eta 0:00:01\n",
      "   ---------------- ----------------------- 0.4/1.0 MB 1.2 MB/s eta 0:00:01\n",
      "   ------------------ --------------------- 0.5/1.0 MB 1.2 MB/s eta 0:00:01\n",
      "   ------------------- -------------------- 0.5/1.0 MB 1.2 MB/s eta 0:00:01\n",
      "   --------------------- ------------------ 0.6/1.0 MB 1.2 MB/s eta 0:00:01\n",
      "   ------------------------ --------------- 0.6/1.0 MB 1.2 MB/s eta 0:00:01\n",
      "   -------------------------- ------------- 0.7/1.0 MB 1.2 MB/s eta 0:00:01\n",
      "   ---------------------------- ----------- 0.7/1.0 MB 1.2 MB/s eta 0:00:01\n",
      "   ----------------------------- ---------- 0.8/1.0 MB 1.2 MB/s eta 0:00:01\n",
      "   -------------------------------- ------- 0.8/1.0 MB 1.2 MB/s eta 0:00:01\n",
      "   ---------------------------------- ----- 0.9/1.0 MB 1.2 MB/s eta 0:00:01\n",
      "   ------------------------------------ --- 0.9/1.0 MB 1.2 MB/s eta 0:00:01\n",
      "   ---------------------------------------  1.0/1.0 MB 1.2 MB/s eta 0:00:01\n",
      "   ---------------------------------------  1.0/1.0 MB 1.2 MB/s eta 0:00:01\n",
      "   ---------------------------------------- 1.0/1.0 MB 1.1 MB/s eta 0:00:00\n",
      "Downloading PyPrind-2.11.3-py2.py3-none-any.whl (8.4 kB)\n",
      "Building wheels for collected packages: pipwin, docopt, pyjsparser\n",
      "  Building wheel for pipwin (setup.py): started\n",
      "  Building wheel for pipwin (setup.py): finished with status 'done'\n",
      "  Created wheel for pipwin: filename=pipwin-0.5.2-py2.py3-none-any.whl size=8795 sha256=2ca175711e7a1d4532a11a258915821ac411e468fc2f20cad45e2bbec6b2659f\n",
      "  Stored in directory: c:\\users\\user\\appdata\\local\\pip\\cache\\wheels\\07\\45\\2e\\51ee464b7c3407327439df34c2fc62f978a1e5084aaf23d201\n",
      "  Building wheel for docopt (setup.py): started\n",
      "  Building wheel for docopt (setup.py): finished with status 'done'\n",
      "  Created wheel for docopt: filename=docopt-0.6.2-py2.py3-none-any.whl size=13773 sha256=3a65e13408ce12e155e4fe5e32597c009e3b9b8db7186f7b7c5da812123bce78\n",
      "  Stored in directory: c:\\users\\user\\appdata\\local\\pip\\cache\\wheels\\1a\\b0\\8c\\4b75c4116c31f83c8f9f047231251e13cc74481cca4a78a9ce\n",
      "  Building wheel for pyjsparser (setup.py): started\n",
      "  Building wheel for pyjsparser (setup.py): finished with status 'done'\n",
      "  Created wheel for pyjsparser: filename=pyjsparser-2.7.1-py3-none-any.whl size=25988 sha256=0b9060ae75b53a00984c78a4e450363fecfc5427e665506f48d7a4b30e99101f\n",
      "  Stored in directory: c:\\users\\user\\appdata\\local\\pip\\cache\\wheels\\a5\\9a\\30\\1003e89ab4555b81840ca46d361bf184f1e6ad880cae3b62a9\n",
      "Successfully built pipwin docopt pyjsparser\n",
      "Installing collected packages: pySmartDL, pyprind, pyjsparser, docopt, js2py, pipwin\n",
      "Successfully installed docopt-0.6.2 js2py-0.74 pipwin-0.5.2 pySmartDL-1.3.4 pyjsparser-2.7.1 pyprind-2.11.3\n"
     ]
    }
   ],
   "source": [
    "! pip install pipwin"
   ]
  },
  {
   "cell_type": "code",
   "execution_count": 2,
   "id": "6957ce23-9253-4238-9a61-ad7e2510c8a3",
   "metadata": {},
   "outputs": [],
   "source": [
    "import speech_recognition\n",
    "def listenTo():\n",
    "    r=speech_recognition.Recognizer()\n",
    "    with speech_recognition.Microphone() as source:\n",
    "        r.adjust_for_ambient_noise(source)\n",
    "        audio=r.listen(source)\n",
    "    return r.recognize_google(audio,language='zh-TW')"
   ]
  },
  {
   "cell_type": "code",
   "execution_count": 3,
   "id": "a71a2ae4-0799-42fa-aecb-0e7f5c8229c0",
   "metadata": {},
   "outputs": [
    {
     "name": "stdout",
     "output_type": "stream",
     "text": [
      "pygame 2.5.2 (SDL 2.28.3, Python 3.11.7)\n",
      "Hello from the pygame community. https://www.pygame.org/contribute.html\n"
     ]
    }
   ],
   "source": [
    "import tempfile\n",
    "from gtts import gTTS\n",
    "from pygame import mixer\n",
    "mixer.init()"
   ]
  },
  {
   "cell_type": "code",
   "execution_count": 9,
   "id": "0852a842-84ae-4e03-9caf-e53298c51b85",
   "metadata": {},
   "outputs": [],
   "source": [
    "def speak(sentence):\n",
    "    with tempfile.NamedTemporaryFile(delete=True)as fp:\n",
    "        tts=gTTS(text=sentence,lang=\"zh-TW\")\n",
    "        tts.save(\"{}.mp3\".format(fp.name))\n",
    "        mixer.music.load(\"{}.mp3\".format(fp.name))\n",
    "        mixer.music.play()\n",
    "speak(\"天氣甚麼時候變好呀!\")"
   ]
  },
  {
   "cell_type": "code",
   "execution_count": 19,
   "id": "3dcdae37-f92e-4684-822a-a97c6345704f",
   "metadata": {},
   "outputs": [],
   "source": [
    "qa={\"小杜小杜\":\"我在\",\"今天的天氣如何\":\"今天是大晴天\",\"你覺得晚上幾點睡比較好\":\"我覺得晚上最晚11點睡比較好\"}"
   ]
  },
  {
   "cell_type": "code",
   "execution_count": 20,
   "id": "4079ee74-c59d-4a39-ad23-e3c79afaf16b",
   "metadata": {},
   "outputs": [],
   "source": [
    "speak(qa.get(listenTo(),\"聽不懂，請在講一次台詞\"))"
   ]
  },
  {
   "cell_type": "code",
   "execution_count": 21,
   "id": "a80a1d56-7cfe-446f-8c28-973c854e0c1c",
   "metadata": {},
   "outputs": [],
   "source": [
    "#語音翻譯"
   ]
  },
  {
   "cell_type": "code",
   "execution_count": 22,
   "id": "b7bb83ec-a85e-46c3-b196-9d0b02e0e8a0",
   "metadata": {
    "scrolled": true
   },
   "outputs": [
    {
     "name": "stdout",
     "output_type": "stream",
     "text": [
      "Requirement already satisfied: googletrans==4.0.0-rc1 in c:\\users\\user\\anaconda3\\lib\\site-packages (4.0.0rc1)\n",
      "Requirement already satisfied: httpx==0.13.3 in c:\\users\\user\\anaconda3\\lib\\site-packages (from googletrans==4.0.0-rc1) (0.13.3)\n",
      "Requirement already satisfied: certifi in c:\\users\\user\\anaconda3\\lib\\site-packages (from httpx==0.13.3->googletrans==4.0.0-rc1) (2024.2.2)\n",
      "Requirement already satisfied: hstspreload in c:\\users\\user\\anaconda3\\lib\\site-packages (from httpx==0.13.3->googletrans==4.0.0-rc1) (2024.5.1)\n",
      "Requirement already satisfied: sniffio in c:\\users\\user\\anaconda3\\lib\\site-packages (from httpx==0.13.3->googletrans==4.0.0-rc1) (1.3.0)\n",
      "Requirement already satisfied: chardet==3.* in c:\\users\\user\\anaconda3\\lib\\site-packages (from httpx==0.13.3->googletrans==4.0.0-rc1) (3.0.4)\n",
      "Requirement already satisfied: idna==2.* in c:\\users\\user\\anaconda3\\lib\\site-packages (from httpx==0.13.3->googletrans==4.0.0-rc1) (2.10)\n",
      "Requirement already satisfied: rfc3986<2,>=1.3 in c:\\users\\user\\anaconda3\\lib\\site-packages (from httpx==0.13.3->googletrans==4.0.0-rc1) (1.5.0)\n",
      "Requirement already satisfied: httpcore==0.9.* in c:\\users\\user\\anaconda3\\lib\\site-packages (from httpx==0.13.3->googletrans==4.0.0-rc1) (0.9.1)\n",
      "Requirement already satisfied: h11<0.10,>=0.8 in c:\\users\\user\\anaconda3\\lib\\site-packages (from httpcore==0.9.*->httpx==0.13.3->googletrans==4.0.0-rc1) (0.9.0)\n",
      "Requirement already satisfied: h2==3.* in c:\\users\\user\\anaconda3\\lib\\site-packages (from httpcore==0.9.*->httpx==0.13.3->googletrans==4.0.0-rc1) (3.2.0)\n",
      "Requirement already satisfied: hyperframe<6,>=5.2.0 in c:\\users\\user\\anaconda3\\lib\\site-packages (from h2==3.*->httpcore==0.9.*->httpx==0.13.3->googletrans==4.0.0-rc1) (5.2.0)\n",
      "Requirement already satisfied: hpack<4,>=3.0 in c:\\users\\user\\anaconda3\\lib\\site-packages (from h2==3.*->httpcore==0.9.*->httpx==0.13.3->googletrans==4.0.0-rc1) (3.0.0)\n"
     ]
    }
   ],
   "source": [
    "!pip install googletrans==4.0.0-rc1"
   ]
  },
  {
   "cell_type": "code",
   "execution_count": 23,
   "id": "2aab71a6-19ec-44cd-9726-1293d1f90b3c",
   "metadata": {},
   "outputs": [],
   "source": [
    "from googletrans import Translator"
   ]
  },
  {
   "cell_type": "code",
   "execution_count": 24,
   "id": "87b23514-47f8-4fbd-8c61-83f552602a8c",
   "metadata": {},
   "outputs": [],
   "source": [
    "def listenTo():\n",
    "    r=speech_recognition.Recognizer()\n",
    "    with speech_recognition.Microphone() as source:\n",
    "        r.adjust_for_ambient_noise(source)\n",
    "        audio=r.listen(source)\n",
    "    return r.recognize_google(audio,language='zh-TW')"
   ]
  },
  {
   "cell_type": "code",
   "execution_count": 25,
   "id": "54ebeb3e-82f4-4d78-b460-43cc9e71721b",
   "metadata": {},
   "outputs": [],
   "source": [
    "def speak(sentence,lang):\n",
    "    mixer.init()\n",
    "    with tempfile.NamedTemporaryFile(delete=True)as fp:\n",
    "        tts=gTTS(text=sentence,lang=lang)\n",
    "        tts.save(\"{}.mp3\".format(fp.name))\n",
    "        mixer.music.load(\"{}.mp3\".format(fp.name))\n",
    "        mixer.music.play()"
   ]
  },
  {
   "cell_type": "code",
   "execution_count": 28,
   "id": "9d084a5c-2a5e-45a4-be1d-671839bb0093",
   "metadata": {},
   "outputs": [
    {
     "data": {
      "text/plain": [
       "'The weather is so good today'"
      ]
     },
     "execution_count": 28,
     "metadata": {},
     "output_type": "execute_result"
    }
   ],
   "source": [
    "translator=Translator()\n",
    "translator.translate(\"今天天氣真好\",dest='en').text"
   ]
  },
  {
   "cell_type": "code",
   "execution_count": 31,
   "id": "8ef6456e-cc43-47db-a6c4-b1965a1b7e92",
   "metadata": {},
   "outputs": [
    {
     "name": "stdout",
     "output_type": "stream",
     "text": [
      "너무 아름답습니다\n",
      "Translated(src=ko, dest=ko, text=너무 아름답습니다, pronunciation=neomu aleumdabseubnida, extra_data=\"{'confiden...\")\n"
     ]
    }
   ],
   "source": [
    "lang='ko'\n",
    "A=translator.translate(listenTo(),lang).text\n",
    "speak(A,lang)\n",
    "print(A)\n",
    "B=translator.translate(A,dest='ko')\n",
    "print(B)"
   ]
  },
  {
   "cell_type": "code",
   "execution_count": 32,
   "id": "b1eee73d-aabf-4d38-83cc-2d2119154c2b",
   "metadata": {},
   "outputs": [
    {
     "name": "stdout",
     "output_type": "stream",
     "text": [
      "おはよう\n",
      "Translated(src=ja, dest=ja, text=おはよう, pronunciation=Ohayō, extra_data=\"{'confiden...\")\n"
     ]
    }
   ],
   "source": [
    "lang='ja'\n",
    "A=translator.translate(listenTo(),lang).text\n",
    "speak(A,lang)\n",
    "print(A)\n",
    "B=translator.translate(A,dest='ja')\n",
    "print(B)"
   ]
  },
  {
   "cell_type": "code",
   "execution_count": 33,
   "id": "1b5276e2-ad60-4ac4-96f3-ca5fd9128108",
   "metadata": {
    "scrolled": true
   },
   "outputs": [
    {
     "name": "stdout",
     "output_type": "stream",
     "text": [
      "{'afrikaans': 'af',\n",
      " 'albanian': 'sq',\n",
      " 'amharic': 'am',\n",
      " 'arabic': 'ar',\n",
      " 'armenian': 'hy',\n",
      " 'azerbaijani': 'az',\n",
      " 'basque': 'eu',\n",
      " 'belarusian': 'be',\n",
      " 'bengali': 'bn',\n",
      " 'bosnian': 'bs',\n",
      " 'bulgarian': 'bg',\n",
      " 'catalan': 'ca',\n",
      " 'cebuano': 'ceb',\n",
      " 'chichewa': 'ny',\n",
      " 'chinese (simplified)': 'zh-cn',\n",
      " 'chinese (traditional)': 'zh-tw',\n",
      " 'corsican': 'co',\n",
      " 'croatian': 'hr',\n",
      " 'czech': 'cs',\n",
      " 'danish': 'da',\n",
      " 'dutch': 'nl',\n",
      " 'english': 'en',\n",
      " 'esperanto': 'eo',\n",
      " 'estonian': 'et',\n",
      " 'filipino': 'tl',\n",
      " 'finnish': 'fi',\n",
      " 'french': 'fr',\n",
      " 'frisian': 'fy',\n",
      " 'galician': 'gl',\n",
      " 'georgian': 'ka',\n",
      " 'german': 'de',\n",
      " 'greek': 'el',\n",
      " 'gujarati': 'gu',\n",
      " 'haitian creole': 'ht',\n",
      " 'hausa': 'ha',\n",
      " 'hawaiian': 'haw',\n",
      " 'hebrew': 'he',\n",
      " 'hindi': 'hi',\n",
      " 'hmong': 'hmn',\n",
      " 'hungarian': 'hu',\n",
      " 'icelandic': 'is',\n",
      " 'igbo': 'ig',\n",
      " 'indonesian': 'id',\n",
      " 'irish': 'ga',\n",
      " 'italian': 'it',\n",
      " 'japanese': 'ja',\n",
      " 'javanese': 'jw',\n",
      " 'kannada': 'kn',\n",
      " 'kazakh': 'kk',\n",
      " 'khmer': 'km',\n",
      " 'korean': 'ko',\n",
      " 'kurdish (kurmanji)': 'ku',\n",
      " 'kyrgyz': 'ky',\n",
      " 'lao': 'lo',\n",
      " 'latin': 'la',\n",
      " 'latvian': 'lv',\n",
      " 'lithuanian': 'lt',\n",
      " 'luxembourgish': 'lb',\n",
      " 'macedonian': 'mk',\n",
      " 'malagasy': 'mg',\n",
      " 'malay': 'ms',\n",
      " 'malayalam': 'ml',\n",
      " 'maltese': 'mt',\n",
      " 'maori': 'mi',\n",
      " 'marathi': 'mr',\n",
      " 'mongolian': 'mn',\n",
      " 'myanmar (burmese)': 'my',\n",
      " 'nepali': 'ne',\n",
      " 'norwegian': 'no',\n",
      " 'odia': 'or',\n",
      " 'pashto': 'ps',\n",
      " 'persian': 'fa',\n",
      " 'polish': 'pl',\n",
      " 'portuguese': 'pt',\n",
      " 'punjabi': 'pa',\n",
      " 'romanian': 'ro',\n",
      " 'russian': 'ru',\n",
      " 'samoan': 'sm',\n",
      " 'scots gaelic': 'gd',\n",
      " 'serbian': 'sr',\n",
      " 'sesotho': 'st',\n",
      " 'shona': 'sn',\n",
      " 'sindhi': 'sd',\n",
      " 'sinhala': 'si',\n",
      " 'slovak': 'sk',\n",
      " 'slovenian': 'sl',\n",
      " 'somali': 'so',\n",
      " 'spanish': 'es',\n",
      " 'sundanese': 'su',\n",
      " 'swahili': 'sw',\n",
      " 'swedish': 'sv',\n",
      " 'tajik': 'tg',\n",
      " 'tamil': 'ta',\n",
      " 'telugu': 'te',\n",
      " 'thai': 'th',\n",
      " 'turkish': 'tr',\n",
      " 'ukrainian': 'uk',\n",
      " 'urdu': 'ur',\n",
      " 'uyghur': 'ug',\n",
      " 'uzbek': 'uz',\n",
      " 'vietnamese': 'vi',\n",
      " 'welsh': 'cy',\n",
      " 'xhosa': 'xh',\n",
      " 'yiddish': 'yi',\n",
      " 'yoruba': 'yo',\n",
      " 'zulu': 'zu'}\n"
     ]
    }
   ],
   "source": [
    "import googletrans\n",
    "from pprint import pprint\n",
    "pprint(googletrans.LANGCODES)"
   ]
  },
  {
   "cell_type": "code",
   "execution_count": 34,
   "id": "ef4ba6d9-7a91-4d98-a78d-1746dc4add56",
   "metadata": {},
   "outputs": [
    {
     "name": "stdout",
     "output_type": "stream",
     "text": [
      "Detected(lang=ko, confidence=None)\n",
      "ko\n"
     ]
    }
   ],
   "source": [
    "unknown_sentence='오늘 날씨가 너무 좋아요'\n",
    "results=translator.detect(unknown_sentence)\n",
    "print(results)\n",
    "print(results.lang)"
   ]
  },
  {
   "cell_type": "code",
   "execution_count": null,
   "id": "389b32a2-eff7-4017-9178-5eae1337ac75",
   "metadata": {},
   "outputs": [],
   "source": []
  }
 ],
 "metadata": {
  "kernelspec": {
   "display_name": "Python 3 (ipykernel)",
   "language": "python",
   "name": "python3"
  },
  "language_info": {
   "codemirror_mode": {
    "name": "ipython",
    "version": 3
   },
   "file_extension": ".py",
   "mimetype": "text/x-python",
   "name": "python",
   "nbconvert_exporter": "python",
   "pygments_lexer": "ipython3",
   "version": "3.11.7"
  }
 },
 "nbformat": 4,
 "nbformat_minor": 5
}
